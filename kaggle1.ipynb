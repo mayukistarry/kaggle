{
  "nbformat": 4,
  "nbformat_minor": 0,
  "metadata": {
    "colab": {
      "provenance": [],
      "machine_shape": "hm",
      "gpuType": "V100",
      "authorship_tag": "ABX9TyP8M0tlHY13QryBR2f9nrIu",
      "include_colab_link": true
    },
    "kernelspec": {
      "name": "python3",
      "display_name": "Python 3"
    },
    "language_info": {
      "name": "python"
    },
    "accelerator": "GPU"
  },
  "cells": [
    {
      "cell_type": "markdown",
      "metadata": {
        "id": "view-in-github",
        "colab_type": "text"
      },
      "source": [
        "<a href=\"https://colab.research.google.com/github/mayukistarry/kaggle/blob/main/kaggle1.ipynb\" target=\"_parent\"><img src=\"https://colab.research.google.com/assets/colab-badge.svg\" alt=\"Open In Colab\"/></a>"
      ]
    },
    {
      "cell_type": "code",
      "execution_count": null,
      "metadata": {
        "colab": {
          "base_uri": "https://localhost:8080/"
        },
        "id": "5Dpz9BiU0h7o",
        "outputId": "c59e7c3d-1ca4-4f86-9aae-26fdc6ca77fb"
      },
      "outputs": [
        {
          "output_type": "execute_result",
          "data": {
            "text/plain": [
              "2"
            ]
          },
          "metadata": {},
          "execution_count": 1
        }
      ],
      "source": [
        "1+1"
      ]
    },
    {
      "cell_type": "markdown",
      "source": [
        "# URL\n",
        "\n",
        "- https://www.kaggle.com/competitions/playground-series-s3e19/overview"
      ],
      "metadata": {
        "id": "NyhBcMU80lGh"
      }
    },
    {
      "cell_type": "code",
      "source": [
        "import pandas as pd\n",
        "import numpy as np\n",
        "import lightgbm as lgb\n",
        "from sklearn.preprocessing import LabelEncoder\n",
        "from sklearn.model_selection import train_test_split"
      ],
      "metadata": {
        "id": "vBHI7wUE0tbc"
      },
      "execution_count": null,
      "outputs": []
    },
    {
      "cell_type": "code",
      "source": [
        "train = pd.read_csv('train.csv')\n",
        "test = pd.read_csv('test.csv')\n",
        "le = LabelEncoder()"
      ],
      "metadata": {
        "id": "tFfBZApp1mSe"
      },
      "execution_count": null,
      "outputs": []
    },
    {
      "cell_type": "code",
      "source": [
        "train['store'] = le.fit_transform(train['store'])\n",
        "train['country'] = le.fit_transform(train['country'])\n",
        "train['product'] = le.fit_transform(train['product'])"
      ],
      "metadata": {
        "id": "J_zq0bMF1yEp"
      },
      "execution_count": null,
      "outputs": []
    },
    {
      "cell_type": "code",
      "source": [
        "test['store'] = le.fit_transform(test['store'])\n",
        "test['country'] = le.fit_transform(test['country'])\n",
        "test['product'] = le.fit_transform(test['product'])"
      ],
      "metadata": {
        "id": "Q-AJI83d2Agq"
      },
      "execution_count": null,
      "outputs": []
    },
    {
      "cell_type": "code",
      "source": [
        "df_train, df_val =train_test_split(train, test_size=0.2)\n",
        "\n",
        "train_x = df_train[['store', 'country', 'product']]\n",
        "train_y = df_train[['num_sold']]\n",
        "\n",
        "val_x = df_val[['store', 'country', 'product']]\n",
        "val_y = df_val[['num_sold']]\n",
        "\n",
        "trains = lgb.Dataset(train_x, train_y)\n",
        "valids = lgb.Dataset(val_x, val_y)\n",
        "\n",
        "params = {\n",
        "    \"objective\": \"regression\",\n",
        "    \"metrics\": \"mae\"\n",
        "}"
      ],
      "metadata": {
        "id": "qFoMb1NS3HwW"
      },
      "execution_count": null,
      "outputs": []
    },
    {
      "cell_type": "code",
      "source": [
        "model = lgb.train(params, trains, valid_sets=valids, num_boost_round=1000, early_stopping_rounds=100)"
      ],
      "metadata": {
        "colab": {
          "base_uri": "https://localhost:8080/"
        },
        "id": "SY8Z3U8T4K7K",
        "outputId": "bff094f0-ec35-4d56-91a4-2f5f06b3e8e9"
      },
      "execution_count": null,
      "outputs": [
        {
          "output_type": "stream",
          "name": "stderr",
          "text": [
            "/usr/local/lib/python3.10/dist-packages/lightgbm/engine.py:181: UserWarning: 'early_stopping_rounds' argument is deprecated and will be removed in a future release of LightGBM. Pass 'early_stopping()' callback via 'callbacks' argument instead.\n",
            "  _log_warning(\"'early_stopping_rounds' argument is deprecated and will be removed in a future release of LightGBM. \"\n"
          ]
        },
        {
          "output_type": "stream",
          "name": "stdout",
          "text": [
            "[LightGBM] [Warning] Auto-choosing row-wise multi-threading, the overhead of testing was 0.002037 seconds.\n",
            "You can set `force_row_wise=true` to remove the overhead.\n",
            "And if memory is not enough, you can set `force_col_wise=true`.\n",
            "[LightGBM] [Info] Total Bins 13\n",
            "[LightGBM] [Info] Number of data points in the train set: 109560, number of used features: 3\n",
            "[LightGBM] [Info] Start training from score 165.923740\n",
            "[1]\tvalid_0's l1: 122.468\n",
            "Training until validation scores don't improve for 100 rounds\n",
            "[2]\tvalid_0's l1: 110.588\n",
            "[3]\tvalid_0's l1: 99.9185\n",
            "[4]\tvalid_0's l1: 90.3636\n",
            "[5]\tvalid_0's l1: 81.8151\n",
            "[6]\tvalid_0's l1: 74.2076\n",
            "[7]\tvalid_0's l1: 67.4312\n",
            "[8]\tvalid_0's l1: 61.4542\n",
            "[9]\tvalid_0's l1: 56.1821\n",
            "[10]\tvalid_0's l1: 51.5434\n",
            "[11]\tvalid_0's l1: 47.493\n",
            "[12]\tvalid_0's l1: 43.9567\n",
            "[13]\tvalid_0's l1: 40.9089\n",
            "[14]\tvalid_0's l1: 38.2845\n",
            "[15]\tvalid_0's l1: 36.0257\n",
            "[16]\tvalid_0's l1: 34.0882\n",
            "[17]\tvalid_0's l1: 32.4398\n",
            "[18]\tvalid_0's l1: 31.0452\n",
            "[19]\tvalid_0's l1: 29.8542\n",
            "[20]\tvalid_0's l1: 28.8252\n",
            "[21]\tvalid_0's l1: 27.934\n",
            "[22]\tvalid_0's l1: 27.171\n",
            "[23]\tvalid_0's l1: 26.5349\n",
            "[24]\tvalid_0's l1: 25.9789\n",
            "[25]\tvalid_0's l1: 25.5117\n",
            "[26]\tvalid_0's l1: 25.1197\n",
            "[27]\tvalid_0's l1: 24.7832\n",
            "[28]\tvalid_0's l1: 24.5009\n",
            "[29]\tvalid_0's l1: 24.2424\n",
            "[30]\tvalid_0's l1: 24.0356\n",
            "[31]\tvalid_0's l1: 23.8428\n",
            "[32]\tvalid_0's l1: 23.6836\n",
            "[33]\tvalid_0's l1: 23.5383\n",
            "[34]\tvalid_0's l1: 23.4188\n",
            "[35]\tvalid_0's l1: 23.3084\n",
            "[36]\tvalid_0's l1: 23.2086\n",
            "[37]\tvalid_0's l1: 23.1357\n",
            "[38]\tvalid_0's l1: 23.0624\n",
            "[39]\tvalid_0's l1: 22.9968\n",
            "[40]\tvalid_0's l1: 22.9492\n",
            "[41]\tvalid_0's l1: 22.8976\n",
            "[42]\tvalid_0's l1: 22.8554\n",
            "[43]\tvalid_0's l1: 22.8152\n",
            "[44]\tvalid_0's l1: 22.7851\n",
            "[45]\tvalid_0's l1: 22.7545\n",
            "[46]\tvalid_0's l1: 22.7304\n",
            "[47]\tvalid_0's l1: 22.7073\n",
            "[48]\tvalid_0's l1: 22.6866\n",
            "[49]\tvalid_0's l1: 22.6686\n",
            "[50]\tvalid_0's l1: 22.6519\n",
            "[51]\tvalid_0's l1: 22.64\n",
            "[52]\tvalid_0's l1: 22.6289\n",
            "[53]\tvalid_0's l1: 22.62\n",
            "[54]\tvalid_0's l1: 22.6103\n",
            "[55]\tvalid_0's l1: 22.6029\n",
            "[56]\tvalid_0's l1: 22.596\n",
            "[57]\tvalid_0's l1: 22.5903\n",
            "[58]\tvalid_0's l1: 22.5862\n",
            "[59]\tvalid_0's l1: 22.5821\n",
            "[60]\tvalid_0's l1: 22.5788\n",
            "[61]\tvalid_0's l1: 22.5762\n",
            "[62]\tvalid_0's l1: 22.5732\n",
            "[63]\tvalid_0's l1: 22.571\n",
            "[64]\tvalid_0's l1: 22.5694\n",
            "[65]\tvalid_0's l1: 22.5677\n",
            "[66]\tvalid_0's l1: 22.5663\n",
            "[67]\tvalid_0's l1: 22.565\n",
            "[68]\tvalid_0's l1: 22.564\n",
            "[69]\tvalid_0's l1: 22.5629\n",
            "[70]\tvalid_0's l1: 22.5621\n",
            "[71]\tvalid_0's l1: 22.5612\n",
            "[72]\tvalid_0's l1: 22.5605\n",
            "[73]\tvalid_0's l1: 22.5598\n",
            "[74]\tvalid_0's l1: 22.5591\n",
            "[75]\tvalid_0's l1: 22.5586\n",
            "[76]\tvalid_0's l1: 22.5581\n",
            "[77]\tvalid_0's l1: 22.5578\n",
            "[78]\tvalid_0's l1: 22.5575\n",
            "[79]\tvalid_0's l1: 22.5572\n",
            "[80]\tvalid_0's l1: 22.5569\n",
            "[81]\tvalid_0's l1: 22.5567\n",
            "[82]\tvalid_0's l1: 22.5566\n",
            "[83]\tvalid_0's l1: 22.5565\n",
            "[84]\tvalid_0's l1: 22.5564\n",
            "[85]\tvalid_0's l1: 22.5563\n",
            "[86]\tvalid_0's l1: 22.5563\n",
            "[87]\tvalid_0's l1: 22.5562\n",
            "[88]\tvalid_0's l1: 22.5561\n",
            "[89]\tvalid_0's l1: 22.5561\n",
            "[90]\tvalid_0's l1: 22.556\n",
            "[91]\tvalid_0's l1: 22.556\n",
            "[92]\tvalid_0's l1: 22.556\n",
            "[93]\tvalid_0's l1: 22.556\n",
            "[94]\tvalid_0's l1: 22.5559\n",
            "[95]\tvalid_0's l1: 22.5559\n",
            "[96]\tvalid_0's l1: 22.5559\n",
            "[97]\tvalid_0's l1: 22.5559\n",
            "[98]\tvalid_0's l1: 22.5559\n",
            "[99]\tvalid_0's l1: 22.5559\n",
            "[100]\tvalid_0's l1: 22.5559\n",
            "[101]\tvalid_0's l1: 22.5559\n",
            "[102]\tvalid_0's l1: 22.5559\n",
            "[103]\tvalid_0's l1: 22.5558\n",
            "[104]\tvalid_0's l1: 22.5558\n",
            "[105]\tvalid_0's l1: 22.5558\n",
            "[106]\tvalid_0's l1: 22.5558\n",
            "[107]\tvalid_0's l1: 22.5558\n",
            "[108]\tvalid_0's l1: 22.5558\n",
            "[109]\tvalid_0's l1: 22.5558\n",
            "[110]\tvalid_0's l1: 22.5558\n",
            "[111]\tvalid_0's l1: 22.5558\n",
            "[112]\tvalid_0's l1: 22.5558\n",
            "[113]\tvalid_0's l1: 22.5558\n",
            "[114]\tvalid_0's l1: 22.5558\n",
            "[115]\tvalid_0's l1: 22.5558\n",
            "[116]\tvalid_0's l1: 22.5558\n",
            "[117]\tvalid_0's l1: 22.5558\n",
            "[118]\tvalid_0's l1: 22.5558\n",
            "[119]\tvalid_0's l1: 22.5558\n",
            "[120]\tvalid_0's l1: 22.5558\n",
            "[121]\tvalid_0's l1: 22.5558\n",
            "[122]\tvalid_0's l1: 22.5558\n",
            "[123]\tvalid_0's l1: 22.5558\n",
            "[124]\tvalid_0's l1: 22.5559\n",
            "[125]\tvalid_0's l1: 22.5558\n",
            "[126]\tvalid_0's l1: 22.5558\n",
            "[127]\tvalid_0's l1: 22.5558\n",
            "[128]\tvalid_0's l1: 22.5558\n",
            "[129]\tvalid_0's l1: 22.5558\n",
            "[130]\tvalid_0's l1: 22.5558\n",
            "[131]\tvalid_0's l1: 22.5558\n",
            "[132]\tvalid_0's l1: 22.5559\n",
            "[133]\tvalid_0's l1: 22.5559\n",
            "[134]\tvalid_0's l1: 22.5558\n",
            "[135]\tvalid_0's l1: 22.5558\n",
            "[136]\tvalid_0's l1: 22.5558\n",
            "[137]\tvalid_0's l1: 22.5558\n",
            "[138]\tvalid_0's l1: 22.5558\n",
            "[139]\tvalid_0's l1: 22.5558\n",
            "[140]\tvalid_0's l1: 22.5558\n",
            "[141]\tvalid_0's l1: 22.5558\n",
            "[142]\tvalid_0's l1: 22.5558\n",
            "[143]\tvalid_0's l1: 22.5558\n",
            "[144]\tvalid_0's l1: 22.5558\n",
            "[145]\tvalid_0's l1: 22.5558\n",
            "[146]\tvalid_0's l1: 22.5558\n",
            "[147]\tvalid_0's l1: 22.5558\n",
            "[148]\tvalid_0's l1: 22.5558\n",
            "[149]\tvalid_0's l1: 22.5558\n",
            "[150]\tvalid_0's l1: 22.5558\n",
            "[151]\tvalid_0's l1: 22.5558\n",
            "[152]\tvalid_0's l1: 22.5558\n",
            "[153]\tvalid_0's l1: 22.5558\n",
            "[154]\tvalid_0's l1: 22.5558\n",
            "[155]\tvalid_0's l1: 22.5558\n",
            "[156]\tvalid_0's l1: 22.5558\n",
            "[157]\tvalid_0's l1: 22.5558\n",
            "[158]\tvalid_0's l1: 22.5558\n",
            "[159]\tvalid_0's l1: 22.5558\n",
            "[160]\tvalid_0's l1: 22.5558\n",
            "[161]\tvalid_0's l1: 22.5558\n",
            "[162]\tvalid_0's l1: 22.5558\n",
            "[163]\tvalid_0's l1: 22.5558\n",
            "[164]\tvalid_0's l1: 22.5558\n",
            "[165]\tvalid_0's l1: 22.5558\n",
            "[166]\tvalid_0's l1: 22.5558\n",
            "[167]\tvalid_0's l1: 22.5558\n",
            "[168]\tvalid_0's l1: 22.5558\n",
            "[169]\tvalid_0's l1: 22.5558\n",
            "[170]\tvalid_0's l1: 22.5558\n",
            "[171]\tvalid_0's l1: 22.5558\n",
            "[172]\tvalid_0's l1: 22.5558\n",
            "[173]\tvalid_0's l1: 22.5558\n",
            "[174]\tvalid_0's l1: 22.5558\n",
            "[175]\tvalid_0's l1: 22.5558\n",
            "[176]\tvalid_0's l1: 22.5558\n",
            "[177]\tvalid_0's l1: 22.5558\n",
            "[178]\tvalid_0's l1: 22.5558\n",
            "[179]\tvalid_0's l1: 22.5558\n",
            "[180]\tvalid_0's l1: 22.5558\n",
            "[181]\tvalid_0's l1: 22.5558\n",
            "[182]\tvalid_0's l1: 22.5558\n",
            "[183]\tvalid_0's l1: 22.5558\n",
            "[184]\tvalid_0's l1: 22.5558\n",
            "[185]\tvalid_0's l1: 22.5558\n",
            "[186]\tvalid_0's l1: 22.5558\n",
            "[187]\tvalid_0's l1: 22.5558\n",
            "[188]\tvalid_0's l1: 22.5558\n",
            "[189]\tvalid_0's l1: 22.5558\n",
            "[190]\tvalid_0's l1: 22.5558\n",
            "[191]\tvalid_0's l1: 22.5558\n",
            "[192]\tvalid_0's l1: 22.5558\n",
            "[193]\tvalid_0's l1: 22.5558\n",
            "[194]\tvalid_0's l1: 22.5558\n",
            "[195]\tvalid_0's l1: 22.5558\n",
            "[196]\tvalid_0's l1: 22.5558\n",
            "[197]\tvalid_0's l1: 22.5558\n",
            "[198]\tvalid_0's l1: 22.5558\n",
            "[199]\tvalid_0's l1: 22.5558\n",
            "[200]\tvalid_0's l1: 22.5558\n",
            "[201]\tvalid_0's l1: 22.5558\n",
            "[202]\tvalid_0's l1: 22.5558\n",
            "[203]\tvalid_0's l1: 22.5558\n",
            "[204]\tvalid_0's l1: 22.5558\n",
            "[205]\tvalid_0's l1: 22.5558\n",
            "[206]\tvalid_0's l1: 22.5558\n",
            "[207]\tvalid_0's l1: 22.5558\n",
            "[208]\tvalid_0's l1: 22.5558\n",
            "[209]\tvalid_0's l1: 22.5558\n",
            "[210]\tvalid_0's l1: 22.5558\n",
            "[211]\tvalid_0's l1: 22.5558\n",
            "Early stopping, best iteration is:\n",
            "[111]\tvalid_0's l1: 22.5558\n"
          ]
        }
      ]
    },
    {
      "cell_type": "code",
      "source": [
        "df_test = pd.read_csv('test.csv')\n",
        "df_test['store'] = le.fit_transform(df_test['store'])\n",
        "df_test['country'] = le.fit_transform(df_test['country'])\n",
        "df_test['product'] = le.fit_transform(df_test['product'])\n",
        "predict = model.predict(df_test[['store', 'country', 'product']])\n",
        "df_test['num_sold'] = predict\n",
        "df_test[['id', 'num_sold']].to_csv(\"submission.csv\", index=False)"
      ],
      "metadata": {
        "id": "sdemPuc848mh"
      },
      "execution_count": null,
      "outputs": []
    }
  ]
}