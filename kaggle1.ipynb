{
  "nbformat": 4,
  "nbformat_minor": 0,
  "metadata": {
    "colab": {
      "provenance": [],
      "machine_shape": "hm",
      "gpuType": "V100",
      "authorship_tag": "ABX9TyNehl6byVDJcscR6HyhmEEI"
    },
    "kernelspec": {
      "name": "python3",
      "display_name": "Python 3"
    },
    "language_info": {
      "name": "python"
    },
    "accelerator": "GPU"
  },
  "cells": [
    {
      "cell_type": "code",
      "execution_count": null,
      "metadata": {
        "colab": {
          "base_uri": "https://localhost:8080/"
        },
        "id": "5Dpz9BiU0h7o",
        "outputId": "c59e7c3d-1ca4-4f86-9aae-26fdc6ca77fb"
      },
      "outputs": [
        {
          "output_type": "execute_result",
          "data": {
            "text/plain": [
              "2"
            ]
          },
          "metadata": {},
          "execution_count": 1
        }
      ],
      "source": [
        "1+1"
      ]
    },
    {
      "cell_type": "markdown",
      "source": [
        "# URL\n",
        "\n",
        "- https://www.kaggle.com/competitions/playground-series-s3e19/overview"
      ],
      "metadata": {
        "id": "NyhBcMU80lGh"
      }
    },
    {
      "cell_type": "code",
      "source": [
        "import pandas as pd\n",
        "import numpy as np\n",
        "import lightgbm as lgb\n",
        "from sklearn.preprocessing import LabelEncoder\n",
        "from sklearn.model_selection import train_test_split"
      ],
      "metadata": {
        "id": "vBHI7wUE0tbc"
      },
      "execution_count": 1,
      "outputs": []
    },
    {
      "cell_type": "code",
      "source": [
        "train = pd.read_csv('train.csv')\n",
        "test = pd.read_csv('test.csv')\n",
        "le = LabelEncoder()"
      ],
      "metadata": {
        "id": "tFfBZApp1mSe"
      },
      "execution_count": 3,
      "outputs": []
    },
    {
      "cell_type": "code",
      "source": [
        "def labels_encode(df):\n",
        "  df['store'] = le.fit_transform(df['store'])\n",
        "  df['country'] = le.fit_transform(df['country'])\n",
        "  df['product'] = le.fit_transform(df['product'])\n",
        "  return df"
      ],
      "metadata": {
        "id": "m6Wy-bDwxG3i"
      },
      "execution_count": 4,
      "outputs": []
    },
    {
      "cell_type": "code",
      "source": [
        "def train_by_lightgbm(df):\n",
        "  df_train, df_val =train_test_split(df, test_size=0.2)\n",
        "  train_x = df_train[['store', 'country', 'product']]\n",
        "  train_y = df_train[['num_sold']]\n",
        "\n",
        "  val_x = df_val[['store', 'country', 'product']]\n",
        "  val_y = df_val[['num_sold']]\n",
        "\n",
        "  trains = lgb.Dataset(train_x, train_y)\n",
        "  valids = lgb.Dataset(val_x, val_y)\n",
        "\n",
        "  params = {\n",
        "      \"objective\": \"regression\",\n",
        "      \"metrics\": \"mae\"\n",
        "  }\n",
        "  model = lgb.train(params, trains, valid_sets=valids, num_boost_round=1000, early_stopping_rounds=100)\n",
        "  return model\n",
        "\n"
      ],
      "metadata": {
        "id": "Z0ihSxGrzUC-"
      },
      "execution_count": 5,
      "outputs": []
    },
    {
      "cell_type": "code",
      "source": [
        "train = labels_encode(train)\n",
        "model = train_by_lightgbm(train)"
      ],
      "metadata": {
        "colab": {
          "base_uri": "https://localhost:8080/"
        },
        "id": "tiBZpoOTz4WG",
        "outputId": "e61b372f-ac57-488f-c433-8fae8b341899"
      },
      "execution_count": 6,
      "outputs": [
        {
          "output_type": "stream",
          "name": "stderr",
          "text": [
            "/usr/local/lib/python3.10/dist-packages/lightgbm/engine.py:181: UserWarning: 'early_stopping_rounds' argument is deprecated and will be removed in a future release of LightGBM. Pass 'early_stopping()' callback via 'callbacks' argument instead.\n",
            "  _log_warning(\"'early_stopping_rounds' argument is deprecated and will be removed in a future release of LightGBM. \"\n"
          ]
        },
        {
          "output_type": "stream",
          "name": "stdout",
          "text": [
            "[LightGBM] [Warning] Auto-choosing row-wise multi-threading, the overhead of testing was 0.001622 seconds.\n",
            "You can set `force_row_wise=true` to remove the overhead.\n",
            "And if memory is not enough, you can set `force_col_wise=true`.\n",
            "[LightGBM] [Info] Total Bins 13\n",
            "[LightGBM] [Info] Number of data points in the train set: 109560, number of used features: 3\n",
            "[LightGBM] [Info] Start training from score 165.292534\n",
            "[1]\tvalid_0's l1: 123.589\n",
            "Training until validation scores don't improve for 100 rounds\n",
            "[2]\tvalid_0's l1: 111.621\n",
            "[3]\tvalid_0's l1: 100.887\n",
            "[4]\tvalid_0's l1: 91.2766\n",
            "[5]\tvalid_0's l1: 82.6781\n",
            "[6]\tvalid_0's l1: 75.0196\n",
            "[7]\tvalid_0's l1: 68.1879\n",
            "[8]\tvalid_0's l1: 62.1453\n",
            "[9]\tvalid_0's l1: 56.8305\n",
            "[10]\tvalid_0's l1: 52.1464\n",
            "[11]\tvalid_0's l1: 48.0578\n",
            "[12]\tvalid_0's l1: 44.4896\n",
            "[13]\tvalid_0's l1: 41.3958\n",
            "[14]\tvalid_0's l1: 38.7523\n",
            "[15]\tvalid_0's l1: 36.4573\n",
            "[16]\tvalid_0's l1: 34.507\n",
            "[17]\tvalid_0's l1: 32.8495\n",
            "[18]\tvalid_0's l1: 31.458\n",
            "[19]\tvalid_0's l1: 30.2552\n",
            "[20]\tvalid_0's l1: 29.2348\n",
            "[21]\tvalid_0's l1: 28.3594\n",
            "[22]\tvalid_0's l1: 27.6064\n",
            "[23]\tvalid_0's l1: 26.9722\n",
            "[24]\tvalid_0's l1: 26.4459\n",
            "[25]\tvalid_0's l1: 25.9678\n",
            "[26]\tvalid_0's l1: 25.5716\n",
            "[27]\tvalid_0's l1: 25.2279\n",
            "[28]\tvalid_0's l1: 24.9257\n",
            "[29]\tvalid_0's l1: 24.6784\n",
            "[30]\tvalid_0's l1: 24.4602\n",
            "[31]\tvalid_0's l1: 24.274\n",
            "[32]\tvalid_0's l1: 24.1088\n",
            "[33]\tvalid_0's l1: 23.969\n",
            "[34]\tvalid_0's l1: 23.8558\n",
            "[35]\tvalid_0's l1: 23.7413\n",
            "[36]\tvalid_0's l1: 23.6502\n",
            "[37]\tvalid_0's l1: 23.5724\n",
            "[38]\tvalid_0's l1: 23.5048\n",
            "[39]\tvalid_0's l1: 23.4416\n",
            "[40]\tvalid_0's l1: 23.3851\n",
            "[41]\tvalid_0's l1: 23.334\n",
            "[42]\tvalid_0's l1: 23.2953\n",
            "[43]\tvalid_0's l1: 23.2599\n",
            "[44]\tvalid_0's l1: 23.2253\n",
            "[45]\tvalid_0's l1: 23.1968\n",
            "[46]\tvalid_0's l1: 23.1708\n",
            "[47]\tvalid_0's l1: 23.1508\n",
            "[48]\tvalid_0's l1: 23.131\n",
            "[49]\tvalid_0's l1: 23.1143\n",
            "[50]\tvalid_0's l1: 23.1001\n",
            "[51]\tvalid_0's l1: 23.0877\n",
            "[52]\tvalid_0's l1: 23.0774\n",
            "[53]\tvalid_0's l1: 23.0686\n",
            "[54]\tvalid_0's l1: 23.0601\n",
            "[55]\tvalid_0's l1: 23.0527\n",
            "[56]\tvalid_0's l1: 23.0463\n",
            "[57]\tvalid_0's l1: 23.0409\n",
            "[58]\tvalid_0's l1: 23.0367\n",
            "[59]\tvalid_0's l1: 23.0322\n",
            "[60]\tvalid_0's l1: 23.0284\n",
            "[61]\tvalid_0's l1: 23.0247\n",
            "[62]\tvalid_0's l1: 23.022\n",
            "[63]\tvalid_0's l1: 23.0195\n",
            "[64]\tvalid_0's l1: 23.0174\n",
            "[65]\tvalid_0's l1: 23.0157\n",
            "[66]\tvalid_0's l1: 23.0143\n",
            "[67]\tvalid_0's l1: 23.0128\n",
            "[68]\tvalid_0's l1: 23.0116\n",
            "[69]\tvalid_0's l1: 23.0103\n",
            "[70]\tvalid_0's l1: 23.0096\n",
            "[71]\tvalid_0's l1: 23.0088\n",
            "[72]\tvalid_0's l1: 23.008\n",
            "[73]\tvalid_0's l1: 23.0074\n",
            "[74]\tvalid_0's l1: 23.0069\n",
            "[75]\tvalid_0's l1: 23.0066\n",
            "[76]\tvalid_0's l1: 23.0063\n",
            "[77]\tvalid_0's l1: 23.0059\n",
            "[78]\tvalid_0's l1: 23.0056\n",
            "[79]\tvalid_0's l1: 23.0052\n",
            "[80]\tvalid_0's l1: 23.005\n",
            "[81]\tvalid_0's l1: 23.0048\n",
            "[82]\tvalid_0's l1: 23.0046\n",
            "[83]\tvalid_0's l1: 23.0044\n",
            "[84]\tvalid_0's l1: 23.0042\n",
            "[85]\tvalid_0's l1: 23.0041\n",
            "[86]\tvalid_0's l1: 23.0039\n",
            "[87]\tvalid_0's l1: 23.0038\n",
            "[88]\tvalid_0's l1: 23.0038\n",
            "[89]\tvalid_0's l1: 23.0038\n",
            "[90]\tvalid_0's l1: 23.0038\n",
            "[91]\tvalid_0's l1: 23.0037\n",
            "[92]\tvalid_0's l1: 23.0036\n",
            "[93]\tvalid_0's l1: 23.0036\n",
            "[94]\tvalid_0's l1: 23.0035\n",
            "[95]\tvalid_0's l1: 23.0035\n",
            "[96]\tvalid_0's l1: 23.0034\n",
            "[97]\tvalid_0's l1: 23.0034\n",
            "[98]\tvalid_0's l1: 23.0034\n",
            "[99]\tvalid_0's l1: 23.0034\n",
            "[100]\tvalid_0's l1: 23.0034\n",
            "[101]\tvalid_0's l1: 23.0034\n",
            "[102]\tvalid_0's l1: 23.0034\n",
            "[103]\tvalid_0's l1: 23.0034\n",
            "[104]\tvalid_0's l1: 23.0034\n",
            "[105]\tvalid_0's l1: 23.0034\n",
            "[106]\tvalid_0's l1: 23.0034\n",
            "[107]\tvalid_0's l1: 23.0034\n",
            "[108]\tvalid_0's l1: 23.0034\n",
            "[109]\tvalid_0's l1: 23.0034\n",
            "[110]\tvalid_0's l1: 23.0034\n",
            "[111]\tvalid_0's l1: 23.0034\n",
            "[112]\tvalid_0's l1: 23.0034\n",
            "[113]\tvalid_0's l1: 23.0034\n",
            "[114]\tvalid_0's l1: 23.0033\n",
            "[115]\tvalid_0's l1: 23.0033\n",
            "[116]\tvalid_0's l1: 23.0034\n",
            "[117]\tvalid_0's l1: 23.0033\n",
            "[118]\tvalid_0's l1: 23.0033\n",
            "[119]\tvalid_0's l1: 23.0033\n",
            "[120]\tvalid_0's l1: 23.0033\n",
            "[121]\tvalid_0's l1: 23.0034\n",
            "[122]\tvalid_0's l1: 23.0033\n",
            "[123]\tvalid_0's l1: 23.0033\n",
            "[124]\tvalid_0's l1: 23.0033\n",
            "[125]\tvalid_0's l1: 23.0033\n",
            "[126]\tvalid_0's l1: 23.0033\n",
            "[127]\tvalid_0's l1: 23.0034\n",
            "[128]\tvalid_0's l1: 23.0033\n",
            "[129]\tvalid_0's l1: 23.0034\n",
            "[130]\tvalid_0's l1: 23.0034\n",
            "[131]\tvalid_0's l1: 23.0034\n",
            "[132]\tvalid_0's l1: 23.0034\n",
            "[133]\tvalid_0's l1: 23.0034\n",
            "[134]\tvalid_0's l1: 23.0034\n",
            "[135]\tvalid_0's l1: 23.0034\n",
            "[136]\tvalid_0's l1: 23.0034\n",
            "[137]\tvalid_0's l1: 23.0034\n",
            "[138]\tvalid_0's l1: 23.0034\n",
            "[139]\tvalid_0's l1: 23.0034\n",
            "[140]\tvalid_0's l1: 23.0034\n",
            "[141]\tvalid_0's l1: 23.0034\n",
            "[142]\tvalid_0's l1: 23.0034\n",
            "[143]\tvalid_0's l1: 23.0034\n",
            "[144]\tvalid_0's l1: 23.0034\n",
            "[145]\tvalid_0's l1: 23.0034\n",
            "[146]\tvalid_0's l1: 23.0034\n",
            "[147]\tvalid_0's l1: 23.0034\n",
            "[148]\tvalid_0's l1: 23.0034\n",
            "[149]\tvalid_0's l1: 23.0034\n",
            "[150]\tvalid_0's l1: 23.0034\n",
            "[151]\tvalid_0's l1: 23.0034\n",
            "[152]\tvalid_0's l1: 23.0034\n",
            "[153]\tvalid_0's l1: 23.0034\n",
            "[154]\tvalid_0's l1: 23.0034\n",
            "[155]\tvalid_0's l1: 23.0034\n",
            "[156]\tvalid_0's l1: 23.0034\n",
            "[157]\tvalid_0's l1: 23.0034\n",
            "[158]\tvalid_0's l1: 23.0034\n",
            "[159]\tvalid_0's l1: 23.0034\n",
            "[160]\tvalid_0's l1: 23.0034\n",
            "[161]\tvalid_0's l1: 23.0034\n",
            "[162]\tvalid_0's l1: 23.0034\n",
            "[163]\tvalid_0's l1: 23.0034\n",
            "[164]\tvalid_0's l1: 23.0034\n",
            "[165]\tvalid_0's l1: 23.0034\n",
            "[166]\tvalid_0's l1: 23.0034\n",
            "[167]\tvalid_0's l1: 23.0034\n",
            "[168]\tvalid_0's l1: 23.0034\n",
            "[169]\tvalid_0's l1: 23.0034\n",
            "[170]\tvalid_0's l1: 23.0034\n",
            "[171]\tvalid_0's l1: 23.0034\n",
            "[172]\tvalid_0's l1: 23.0034\n",
            "[173]\tvalid_0's l1: 23.0034\n",
            "[174]\tvalid_0's l1: 23.0034\n",
            "[175]\tvalid_0's l1: 23.0034\n",
            "[176]\tvalid_0's l1: 23.0034\n",
            "[177]\tvalid_0's l1: 23.0034\n",
            "[178]\tvalid_0's l1: 23.0034\n",
            "[179]\tvalid_0's l1: 23.0034\n",
            "[180]\tvalid_0's l1: 23.0034\n",
            "[181]\tvalid_0's l1: 23.0034\n",
            "[182]\tvalid_0's l1: 23.0034\n",
            "[183]\tvalid_0's l1: 23.0034\n",
            "[184]\tvalid_0's l1: 23.0034\n",
            "[185]\tvalid_0's l1: 23.0034\n",
            "[186]\tvalid_0's l1: 23.0034\n",
            "[187]\tvalid_0's l1: 23.0034\n",
            "[188]\tvalid_0's l1: 23.0034\n",
            "[189]\tvalid_0's l1: 23.0034\n",
            "[190]\tvalid_0's l1: 23.0034\n",
            "[191]\tvalid_0's l1: 23.0034\n",
            "[192]\tvalid_0's l1: 23.0034\n",
            "[193]\tvalid_0's l1: 23.0034\n",
            "[194]\tvalid_0's l1: 23.0034\n",
            "[195]\tvalid_0's l1: 23.0034\n",
            "[196]\tvalid_0's l1: 23.0034\n",
            "[197]\tvalid_0's l1: 23.0034\n",
            "[198]\tvalid_0's l1: 23.0034\n",
            "[199]\tvalid_0's l1: 23.0034\n",
            "[200]\tvalid_0's l1: 23.0034\n",
            "[201]\tvalid_0's l1: 23.0034\n",
            "[202]\tvalid_0's l1: 23.0034\n",
            "[203]\tvalid_0's l1: 23.0034\n",
            "[204]\tvalid_0's l1: 23.0034\n",
            "[205]\tvalid_0's l1: 23.0034\n",
            "[206]\tvalid_0's l1: 23.0034\n",
            "[207]\tvalid_0's l1: 23.0034\n",
            "[208]\tvalid_0's l1: 23.0034\n",
            "[209]\tvalid_0's l1: 23.0034\n",
            "[210]\tvalid_0's l1: 23.0034\n",
            "[211]\tvalid_0's l1: 23.0034\n",
            "[212]\tvalid_0's l1: 23.0034\n",
            "[213]\tvalid_0's l1: 23.0034\n",
            "[214]\tvalid_0's l1: 23.0034\n",
            "[215]\tvalid_0's l1: 23.0034\n",
            "[216]\tvalid_0's l1: 23.0034\n",
            "[217]\tvalid_0's l1: 23.0034\n",
            "[218]\tvalid_0's l1: 23.0034\n",
            "[219]\tvalid_0's l1: 23.0034\n",
            "[220]\tvalid_0's l1: 23.0034\n",
            "Early stopping, best iteration is:\n",
            "[120]\tvalid_0's l1: 23.0033\n"
          ]
        }
      ]
    },
    {
      "cell_type": "code",
      "source": [
        "df_test = pd.read_csv('test.csv')\n",
        "df_test = labels_encode(df_test)\n",
        "predict = model.predict(df_test[['store', 'country', 'product']])\n",
        "df_test['num_sold'] = predict\n",
        "df_test[['id', 'num_sold']].to_csv(\"submission.csv\", index=False)"
      ],
      "metadata": {
        "id": "sdemPuc848mh"
      },
      "execution_count": 7,
      "outputs": []
    }
  ]
}